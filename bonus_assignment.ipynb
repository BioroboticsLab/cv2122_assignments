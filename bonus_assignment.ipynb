{
 "cells": [
  {
   "cell_type": "markdown",
   "metadata": {
    "collapsed": true,
    "pycharm": {
     "name": "#%% md\n"
    }
   },
   "source": [
    "# Bonus Assignment: YOLO\n",
    "For those who won't meet the n-1 requirements (either in the whiteboard and/or eduflow) can see this assignment as their chance to still pass the active participation for this course and therefore qualify for the exam. For the others, this is your chance to earn eve more bonus points.\n",
    "\n",
    "Please Upload the solution to the Whiteboard assignment 'Bonus Assignment'. The **deadline** is the **27/02 at 23:55**. You don't need to peer review this assignment via eduflow."
   ]
  },
  {
   "cell_type": "markdown",
   "source": [
    "## 16.1 Running YOLOv3\n",
    "Reproduce the results presented in the blogpost (repo) [https://blog.paperspace.com/how-to-implement-a-yolo-object-detector-in-pytorch/](https://blog.paperspace.com/how-to-implement-a-yolo-object-detector-in-pytorch/). Feel free to use their implementation or base your solution on theirs. Show the results on 10 images of your choice [**RESULT**]. Use either the COCO dataset or a multi object image dataset of your choice."
   ],
   "metadata": {
    "collapsed": false,
    "pycharm": {
     "name": "#%% md\n"
    }
   }
  },
  {
   "cell_type": "code",
   "execution_count": 1,
   "outputs": [],
   "source": [
    "#TODO"
   ],
   "metadata": {
    "collapsed": false,
    "pycharm": {
     "name": "#%%\n"
    }
   }
  },
  {
   "cell_type": "markdown",
   "source": [
    "## 16.2 Reducing Depth\n",
    "Reduce the depth of the network according to your expertise. Try to get a faster runtime predicting unseen samples by maintaining as much accuracy as possible. Show the models performance before and after [**RESULT**]. Which blocks did you remove/reduce? [**RESULT**]"
   ],
   "metadata": {
    "collapsed": false,
    "pycharm": {
     "name": "#%% md\n"
    }
   }
  },
  {
   "cell_type": "code",
   "execution_count": 1,
   "outputs": [],
   "source": [
    "#TODO"
   ],
   "metadata": {
    "collapsed": false,
    "pycharm": {
     "name": "#%%\n"
    }
   }
  }
 ],
 "metadata": {
  "kernelspec": {
   "display_name": "Python 3",
   "language": "python",
   "name": "python3"
  },
  "language_info": {
   "codemirror_mode": {
    "name": "ipython",
    "version": 2
   },
   "file_extension": ".py",
   "mimetype": "text/x-python",
   "name": "python",
   "nbconvert_exporter": "python",
   "pygments_lexer": "ipython2",
   "version": "2.7.6"
  }
 },
 "nbformat": 4,
 "nbformat_minor": 0
}